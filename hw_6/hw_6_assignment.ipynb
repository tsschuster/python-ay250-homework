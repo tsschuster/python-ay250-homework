{
 "cells": [
  {
   "cell_type": "code",
   "execution_count": 1,
   "metadata": {
    "collapsed": true
   },
   "outputs": [],
   "source": [
    "###\n",
    "# Instructor: Run first two cells. \n",
    "# Third cell computes the features of one image in one of the \"50_categories\" directories to get a sense of how long it takes for a single image\n",
    "# Fourth cell contains run_final_classifier\n",
    "###\n",
    "\n",
    "\n",
    "###\n",
    "# Import everything first\n",
    "###\n",
    "\n",
    "import sklearn\n",
    "import skimage\n",
    "import skimage.io\n",
    "import numpy as np\n",
    "import pandas as pd\n",
    "\n",
    "from skimage.feature import daisy\n",
    "from skimage.feature import hog\n",
    "from skimage import data\n",
    "from skimage.filters import roberts, sobel, scharr, prewitt\n",
    "\n",
    "from sklearn.model_selection import train_test_split\n",
    "from sklearn.ensemble import RandomForestClassifier\n",
    "from sklearn import preprocessing\n",
    "from sklearn import model_selection\n",
    "\n",
    "from itertools import product\n",
    "from multiprocessing import Pool\n",
    "from os import listdir\n",
    "from os.path import isfile, join\n",
    "import pickle\n",
    "\n",
    "#there's a depreciation warning for skimage.features.hog that keeps popping up\n",
    "def warn(*args, **kwargs):\n",
    "    pass\n",
    "import warnings\n",
    "warnings.warn = warn\n"
   ]
  },
  {
   "cell_type": "code",
   "execution_count": 2,
   "metadata": {
    "collapsed": true
   },
   "outputs": [],
   "source": [
    "###\n",
    "# Define functions to read files & compute features\n",
    "###\n",
    "\n",
    "def getFilesInDirectory(mypath):\n",
    "    \"\"\"Returns list of all filenames in given directory\"\"\"\n",
    "    onlyfiles = [f for f in listdir(mypath) if isfile(join(mypath, f))]\n",
    "    return onlyfiles\n",
    "\n",
    "def setupData(directory = \"50_categories\",only_first = 1000):\n",
    "    \"\"\"Input: Directory containing directories for each class - the directory names are the class names\n",
    "    only_first: For testing mostly - only computes first only_first directories\n",
    "    balanced: samples from lesser represented classes enough so that every class has an equal representation in the data set\n",
    "    Output:\n",
    "    files: a list of the filenames of every image\n",
    "    X: a list of the feature lists of every image\n",
    "    Y: a list of the classes of every image\"\"\"\n",
    "    max_samples = 533 #in this training data, airplane has 533 samples\n",
    "    \n",
    "    files = []\n",
    "    X = []\n",
    "    Y = []\n",
    "    for class_folder in listdir(directory)[:only_first]:\n",
    "        if class_folder[0] != \".\":\n",
    "            filename_list, features_list = getFeaturesFromDirectory(join(directory,class_folder))\n",
    "            class_list = [class_folder]*len(filename_list)\n",
    "            files += filename_list\n",
    "            X += features_list\n",
    "            Y += class_list\n",
    "            print(\"Finished \" + class_folder + \".\")\n",
    "    print(\"Finished.\")\n",
    "    return files, X, Y\n",
    "    \n",
    "#Load images from directory and compute features\n",
    "def getFeaturesFromDirectory(path):\n",
    "    \"\"\"Input: directory containing images\n",
    "    Output: filename_list: a list of the file names in the directory\n",
    "    features_list: a list of the feature lists for each image in the directory\"\"\"\n",
    "    filename_list = getFilesInDirectory(path)\n",
    "    filepath_list = [join(path,filename) for filename in filename_list]\n",
    "    pool = Pool(processes=6)\n",
    "    features_list = pool.map(getFeaturesFromImage,filepath_list)\n",
    "    pool.close()\n",
    "    #features_list = [getFeaturesFromImage(join(path,filename)) for filename in filename_list]\n",
    "    return filename_list,features_list\n",
    "\n",
    "def getFeaturesFromImage(filepath):\n",
    "    \"\"\"Computes a list of features from the file name for a single image.\"\"\"\n",
    "    features = []\n",
    "    #print(filepath)\n",
    "    image = skimage.io.imread(filepath) #load image\n",
    "    image = skimage.img_as_ubyte(image) #make sure they're all the same format\n",
    "    \n",
    "    greyQ = len(np.shape(image))== 2 #is it grey\n",
    "    if greyQ: #convert to color if grey\n",
    "        image = skimage.color.gray2rgb(image, alpha=None)\n",
    "    imageGrey = skimage.color.rgb2grey(image)\n",
    "    \n",
    "    #Image size and ratio\n",
    "    len_x,len_y = np.shape(image[:,:,0])\n",
    "    image_size = len_x*len_y\n",
    "    image_ratio = len_x/len_y\n",
    "    features += [image_size,image_ratio]\n",
    "    \n",
    "    #Discretize colors into N^3 sectors - feature is fraction of image in each sector\n",
    "    #This inherently contains correlations between colors\n",
    "    N = 5\n",
    "    im_discr = image[:,:,0]//(256/N) + N*(image[:,:,1]//(256/N)) + (N**2)*(image[:,:,2]//(256/N))\n",
    "    discr_colors = [np.sum(im_discr == color,axis=(0,1))/image_size for color in range(N**3)]\n",
    "    features += discr_colors\n",
    "\n",
    "    # Parameters related to \"number of edges\" in coarse-grained blocks of image\n",
    "    # Normalize sorbel image by sqrt(L_x*L_y) because gradient ~1/L_x, so mean of gradient ~1/L_x ~ 1/sqrt(L_x*L_y)\n",
    "    # This normalization tries to capture \"Number of edges\"\n",
    "    # Density of edges should be divided by L_x*L_y presumably...\n",
    "    # Uses Sobel edge filter\n",
    "    Nedge = 10\n",
    "    xlims = np.round(np.linspace(0,len_x,Nedge)).astype(int)\n",
    "    ylims = np.round(np.linspace(0,len_y,Nedge)).astype(int)\n",
    "    subimages = [imageGrey[xlims[i]:xlims[i+1],ylims[j]:ylims[j+1]] for i,j in product(range(Nedge-1),range(Nedge-1))]\n",
    "    edge_sobels = [sobel(image) for image in subimages]\n",
    "\n",
    "    means_sobel_grid = [np.mean(im) for im in edge_sobels] #number of edges in sector\n",
    "    stds_sobel_grid = [np.std(im) for im in edge_sobels] #\"spread\" of edges in sector (blurriness)\n",
    "\n",
    "    mean_of_mean = np.mean(means_sobel_grid)\n",
    "    fraction_greater_mean = np.mean(means_sobel_grid > mean_of_mean)\n",
    "    std_of_mean = np.std(means_sobel_grid)\n",
    "    max_of_mean = np.max(means_sobel_grid)\n",
    "    mean_of_std = np.mean(stds_sobel_grid)\n",
    "    std_of_std = np.std(stds_sobel_grid)\n",
    "\n",
    "    features += [mean_of_mean,fraction_greater_mean,std_of_mean,max_of_mean,mean_of_std,std_of_std]\n",
    "    \n",
    "    #Histograms of Oriented Gradients\n",
    "    num_or = 7\n",
    "    H = hog(imageGrey, orientations=num_or, pixels_per_cell=(20,20),cells_per_block=(1,1),block_norm=\"L1\", transform_sqrt=True,feature_vector=False)\n",
    "    H = np.sum(H,axis=(2,3))\n",
    "\n",
    "    fullhist = list(np.sum(H,axis=(0,1)))\n",
    "    features += fullhist\n",
    "\n",
    "    maxs = np.max(H,axis=2)\n",
    "    features += [np.mean(maxs),np.std(maxs),np.sum(maxs>np.mean(maxs))]\n",
    "    #[\"HOG max mean\",\"HOG max std\",\"HOG max frac greater\"]\n",
    "\n",
    "    ormaxs = np.argmax(H,axis=2)\n",
    "    fullhist_ormaxs = [np.sum(ormaxs==i) for i in range(np.shape(H)[2])]\n",
    "    features += fullhist_ormaxs\n",
    "    #[\"HOG fullhist_ormaxs \" + str(i) for i in range(len(fullhist_ormaxs))]\n",
    "\n",
    "    #Unfold to 360 degrees (twice orientations range...nematic vs. vector thing) and get average x and y\n",
    "    ors = np.linspace(0,2*np.pi,num_or+1)[:-1]\n",
    "    xs,ys = np.cos(ors),np.sin(ors) #xs for x & y (+ and -), ys for diagonal\n",
    "    xavgs = np.mean(np.sum(xs*H[None,None,:],axis=(0,1)),axis=2)\n",
    "    yavgs = np.mean(np.sum(ys*H[None,None,:],axis=(0,1)),axis=2)\n",
    "    xabsavgs = np.mean(np.sum(np.abs(xs)*H[None,None,:],axis=(0,1)),axis=2)\n",
    "    yabsavgs = np.mean(np.sum(np.abs(ys)*H[None,None,:],axis=(0,1)),axis=2)\n",
    "\n",
    "    features += [np.mean(xavgs),np.std(xavgs),np.mean(yavgs),np.std(yavgs),np.mean(xabsavgs),np.std(xabsavgs),np.mean(yabsavgs),np.std(yabsavgs)]\n",
    "\n",
    "    #Compute discretized colors for most and least edgy regions\n",
    "    subimages_discr = [im_discr[xlims[i]:xlims[i+1],ylims[j]:ylims[j+1]] for i,j in product(range(Nedge-1),range(Nedge-1))]\n",
    "    edgy_subimage_discr = subimages_discr[np.argmax(means_sobel_grid)]\n",
    "    flat_subimage_discr = subimages_discr[np.argmin(means_sobel_grid)]\n",
    "    \n",
    "    len_x,len_y = np.shape(image[:,:,0])\n",
    "    image_size = len_x*len_y\n",
    "    \n",
    "    #Most edgy\n",
    "    edgy_discr_colors = [np.sum(edgy_subimage_discr == color,axis=(0,1))/image_size for color in range(N**3)]\n",
    "    toptwocolors = list(np.argsort(-np.asarray(edgy_discr_colors)[:2]))\n",
    "    toptwovalues = list(np.sort(-np.asarray(edgy_discr_colors)[:2]))\n",
    "    features += toptwocolors + toptwovalues\n",
    "    \n",
    "    #Least edgy\n",
    "    flat_discr_colors = [np.sum(flat_subimage_discr == color,axis=(0,1))/image_size for color in range(N**3)]\n",
    "    toptwocolors = list(np.argsort(-np.asarray(flat_discr_colors)[:2]))\n",
    "    toptwovalues = list(np.sort(-np.asarray(flat_discr_colors)[:2]))\n",
    "    features += toptwocolors + toptwovalues\n",
    "    \n",
    "    return features\n",
    "\n",
    "#String with names of features\n",
    "N = 5\n",
    "orientations = 7\n",
    "feature_string = [\"Image size\",\"Image ratio (x/y)\"] + \\\n",
    "[\"Color sector (\" + str((R_val,G_val,B_val)) + \")\" for R_val,G_val,B_val in product(range(N),range(N),range(N))] + \\\n",
    "[\"Sorbel mean_of_mean\",\"Sorbel fraction_greater_mean\",\"Sorbel std_of_mean\",\"Sorbel max_of_mean\",\"Sorbel mean_of_std\",\"Sorbel std_of_std\"] + \\\n",
    "[\"HOG fullhist \" + str(i) for i in range(orientations)] + \\\n",
    "[\"HOG max mean\",\"HOG max std\",\"HOG max frac greater\"] + \\\n",
    "[\"HOG fullhist_ormaxs \" + str(i) for i in range(orientations)] + \\\n",
    "[\"HOG X mean\",\"HOG X std\",\"HOG Y mean\",\"HOG Y std\",\"HOG Xa mean\",\"HOG Xa std\",\"HOG Ya mean\",\"HOG Ya std\"] + \\\n",
    "[\"Most Edgy Region: Top color\",\"Most Edgy Region: Second top color\",\"Most Edgy Region: Top color amount\",\"Most Edgy Region: Second top color amount\"] + \\\n",
    "[\"Least Edgy Region: Top color\",\"Least Edgy Region: Second top color\",\"Least Edgy Region: Top color amount\",\"Least Edgy Region: Second top color amount\"]"
   ]
  },
  {
   "cell_type": "code",
   "execution_count": 3,
   "metadata": {},
   "outputs": [
    {
     "name": "stdout",
     "output_type": "stream",
     "text": [
      "91.6 ms ± 3.01 ms per loop (mean ± std. dev. of 7 runs, 10 loops each)\n"
     ]
    }
   ],
   "source": [
    "###\n",
    "# Check time to compute features from a single image\n",
    "###\n",
    "\n",
    "category = \"giraffe\"\n",
    "filepath = \"50_categories/\" + category + \"/\" + listdir(\"50_categories/\" + category + \"/\")[10]\n",
    "\n",
    "%timeit getFeaturesFromImage(\"50_categories/gorilla/gorilla_0003.jpg\")"
   ]
  },
  {
   "cell_type": "code",
   "execution_count": 4,
   "metadata": {},
   "outputs": [
    {
     "name": "stdout",
     "output_type": "stream",
     "text": [
      "Finished prediction. Output printed to predicted_classes.txt.\n"
     ]
    }
   ],
   "source": [
    "###\n",
    "# Instructor run this to compute classes!\n",
    "###\n",
    "\n",
    "def run_final_classifier(path,output_filename = \"predicted_classes.txt\"):\n",
    "    \"\"\"\n",
    "    Makes predictions using saved classifier on a directory of test images and writes output to file\n",
    "    Input: path: directory name containing all test images, output_file\n",
    "    output_filename: name for output file\"\"\"\n",
    "    loaded_classifier = pickle.load(open('final_model.p', 'rb'))\n",
    "    le = pickle.load(open(\"label_encoder.p\",\"rb\"))\n",
    "    filename_list, features_list = getFeaturesFromDirectory(path) #get list of features from directory\n",
    "    X = np.asarray(features_list)\n",
    "    Y_pred = loaded_classifier.predict(X) #classify with loaded model\n",
    "    \n",
    "    #Write output\n",
    "    f = open(output_filename, 'w')\n",
    "    f.write(\"filename\" + \"\\t\\t\\t\" + \"predicted_class\" + \"\\n\")\n",
    "    f.write(\"-\"*40 + \"\\n\")\n",
    "    for filename,Y in zip(filename_list,le.inverse_transform(Y_pred)):\n",
    "        f.write(str(filename) + \"\\t\\t\\t\" + str(Y) + \"\\n\")\n",
    "    f.close()\n",
    "    print(\"Finished prediction. Output printed to \" + output_filename + \".\")\n",
    "    return\n",
    "\n",
    "new_directory_path = \"50_categories/helicopter\"\n",
    "run_final_classifier(new_directory_path)"
   ]
  },
  {
   "cell_type": "code",
   "execution_count": 20,
   "metadata": {},
   "outputs": [
    {
     "name": "stdout",
     "output_type": "stream",
     "text": [
      "Finished gorilla.\n",
      "Finished raccoon.\n",
      "Finished crab.\n",
      "Finished blimp.\n",
      "Finished snail.\n",
      "Finished airplanes.\n",
      "Finished dog.\n",
      "Finished dolphin.\n",
      "Finished goldfish.\n",
      "Finished giraffe.\n",
      "Finished bear.\n",
      "Finished killer-whale.\n",
      "Finished penguin.\n",
      "Finished zebra.\n",
      "Finished duck.\n",
      "Finished conch.\n",
      "Finished camel.\n",
      "Finished owl.\n",
      "Finished helicopter.\n",
      "Finished starfish.\n",
      "Finished saturn.\n",
      "Finished galaxy.\n",
      "Finished goat.\n",
      "Finished iguana.\n",
      "Finished elk.\n",
      "Finished hummingbird.\n",
      "Finished triceratops.\n",
      "Finished porcupine.\n",
      "Finished teddy-bear.\n",
      "Finished comet.\n",
      "Finished hot-air-balloon.\n",
      "Finished leopards.\n",
      "Finished toad.\n",
      "Finished mussels.\n",
      "Finished kangaroo.\n",
      "Finished speed-boat.\n",
      "Finished bat.\n",
      "Finished swan.\n",
      "Finished octopus.\n",
      "Finished frog.\n",
      "Finished cormorant.\n",
      "Finished unicorn.\n",
      "Finished horse.\n",
      "Finished skunk.\n",
      "Finished mars.\n",
      "Finished ostrich.\n",
      "Finished goose.\n",
      "Finished llama.\n",
      "Finished snake.\n",
      "Finished elephant.\n",
      "Finished.\n"
     ]
    },
    {
     "data": {
      "text/plain": [
       "LabelEncoder()"
      ]
     },
     "execution_count": 20,
     "metadata": {},
     "output_type": "execute_result"
    }
   ],
   "source": [
    "###\n",
    "# Compute features from training and test data\n",
    "###\n",
    "\n",
    "files, X, Y = setupData(only_first = 1000)\n",
    "X = np.asarray(X)\n",
    "\n",
    "pickle.dump([files,X,Y],open(\"fXY.p\",\"wb\"))\n",
    "\n",
    "###\n",
    "# Saved classes to file\n",
    "###\n",
    "\n",
    "classes = [direc for direc in listdir(\"50_categories\") if direc[0]!=\".\"]\n",
    "le = preprocessing.LabelEncoder()\n",
    "le.fit(classes)\n",
    "\n",
    "pickle.dump(le,open(\"label_encoder.p\",\"wb\"))\n"
   ]
  },
  {
   "cell_type": "code",
   "execution_count": 3,
   "metadata": {
    "collapsed": true
   },
   "outputs": [],
   "source": [
    "###\n",
    "# Load previously saved features\n",
    "###\n",
    "\n",
    "files,X,Y = pickle.load(open(\"fXY.p\",\"rb\"))"
   ]
  },
  {
   "cell_type": "code",
   "execution_count": 14,
   "metadata": {},
   "outputs": [
    {
     "name": "stdout",
     "output_type": "stream",
     "text": [
      "Random model would have score: 0.02\n",
      "Fitting 5 folds for each of 8 candidates, totalling 40 fits\n"
     ]
    },
    {
     "name": "stderr",
     "output_type": "stream",
     "text": [
      "[Parallel(n_jobs=-1)]: Done  40 out of  40 | elapsed:    2.8s finished\n"
     ]
    },
    {
     "name": "stdout",
     "output_type": "stream",
     "text": [
      "Model with no features (picking most popular category) would have score: 0.124005891016\n",
      "Fitting 5 folds for each of 8 candidates, totalling 40 fits\n"
     ]
    },
    {
     "name": "stderr",
     "output_type": "stream",
     "text": [
      "[Parallel(n_jobs=-1)]: Done  40 out of  40 | elapsed:  1.6min finished\n"
     ]
    },
    {
     "name": "stdout",
     "output_type": "stream",
     "text": [
      "Optimal model has score: 0.377319587629\n",
      "Optimal model parameters are: {'criterion': 'gini', 'max_depth': 22, 'max_features': 120, 'n_estimators': 100}\n"
     ]
    }
   ],
   "source": [
    "###\n",
    "# Using 5-fold Cross-Validation to choose hyperparameters with GridSearchCV\n",
    "# Prints CV score of random-choice model, no features model (picks the most popular category), and optimal model\n",
    "###\n",
    "\n",
    "le = preprocessing.LabelEncoder()\n",
    "le.fit(Y)\n",
    "Y_num = le.transform(Y) \n",
    "\n",
    "#Partition data into training and test sets\n",
    "X_train, X_test, Y_train, Y_test = train_test_split(X, Y_num, test_size=0.2, random_state=42)\n",
    "\n",
    "#Find hyperparameters via cross-validation\n",
    "parameters = {'n_estimators':[100],  'max_features':[20,120], 'max_depth':[18,20,22,24],\n",
    "             'criterion': ['gini']} #,'entropy'\n",
    "rf_tune = model_selection.GridSearchCV(RandomForestClassifier(), parameters, \n",
    "                                   n_jobs = -1, cv = 5,verbose=1)\n",
    "\n",
    "#Score computed with 5-fold cross-validation\n",
    "#Using no features (for comparison):\n",
    "print(\"Random model would have score: \" + str(1./len(le.classes_)))\n",
    "rf_opt = rf_tune.fit(0.*X_train, Y_train) #the grid search is overkill here\n",
    "print(\"Model with no features (picking most popular category) would have score: \" + str(rf_opt.best_score_))\n",
    "\n",
    "#With all features:\n",
    "rf_opt = rf_tune.fit(X_train, Y_train)\n",
    "print(\"Optimal model has score: \" + str(rf_opt.best_score_))\n",
    "print(\"Optimal model parameters are: \" + str(rf_opt.best_params_))"
   ]
  },
  {
   "cell_type": "code",
   "execution_count": 31,
   "metadata": {
    "collapsed": true
   },
   "outputs": [],
   "source": [
    "###\n",
    "# Fit model with chosen hyperparameters to data\n",
    "###\n",
    "\n",
    "files, X, Y = pickle.load(open(\"fXY.p\",\"rb\"))\n",
    "\n",
    "le = preprocessing.LabelEncoder()\n",
    "le.fit(Y)\n",
    "Y_num = le.transform(Y) \n",
    "\n",
    "#Partition data into training and test sets\n",
    "X_train, X_test, Y_train, Y_test = train_test_split(X, Y_num, test_size=0.2, random_state=42)\n",
    "\n",
    "#Random forest classifier\n",
    "#classifier = RandomForestClassifier(**rf_opt.best_params_)\n",
    "classifier = RandomForestClassifier(criterion=\"gini\",max_features=120,n_estimators = 165,max_depth=20) #max_depth reduced for filesize limitations when pushing to github\n",
    "#Score classifier with these hyperparameters via cross-validation\n",
    "classifier.fit(X_train, Y_train) #Fit the classification model on training set\n",
    "\n",
    "#save the model\n",
    "filename = 'final_model.p'\n",
    "pickle.dump(classifier, open(filename, 'wb'))\n"
   ]
  },
  {
   "cell_type": "code",
   "execution_count": 34,
   "metadata": {},
   "outputs": [
    {
     "name": "stdout",
     "output_type": "stream",
     "text": [
      "Feature ranking:\n",
      "1. Image ratio (x/y)                     0.139005\n",
      "2. Image size                            0.038425\n",
      "3. HOG Y std                             0.024363\n",
      "4. Color sector ((0, 0, 0))              0.022805\n",
      "5. HOG fullhist_ormaxs 5                 0.022241\n",
      "6. HOG X mean                            0.020603\n",
      "7. Sorbel mean_of_mean                   0.016502\n",
      "8. Sorbel max_of_mean                    0.013770\n",
      "9. Color sector ((0, 1, 1))              0.013377\n",
      "10. Sorbel mean_of_std                   0.012621\n"
     ]
    },
    {
     "data": {
      "image/png": "[encoded data removed]",
      "text/plain": [
       "<matplotlib.figure.Figure at 0x1c17436048>"
      ]
     },
     "metadata": {},
     "output_type": "display_data"
    }
   ],
   "source": [
    "###\n",
    "#Feature importances\n",
    "###\n",
    "\n",
    "import matplotlib.pyplot as plt\n",
    "\n",
    "importances = classifier.feature_importances_\n",
    "std = np.std([tree.feature_importances_ for tree in classifier.estimators_],\n",
    "             axis=0)\n",
    "indices = np.argsort(importances)[::-1]\n",
    "\n",
    "# Print the feature ranking\n",
    "print(\"Feature ranking:\")\n",
    "\n",
    "#Print top 3 features\n",
    "for f in range(10):\n",
    "    print((\"%d. %s\" % (f + 1, feature_string[indices[f]])).ljust(40) + \" %f\" % (importances[indices[f]]))\n",
    "\n",
    "# Plot the feature importances of the forest\n",
    "plt.figure()\n",
    "plt.title(\"Feature importances\")\n",
    "plt.bar(range(X.shape[1]), importances[indices],\n",
    "       color=\"r\", yerr=std[indices], align=\"center\")\n",
    "plt.xticks(range(X.shape[1]), indices)\n",
    "plt.xlim([-1, X.shape[1]])\n",
    "plt.show()"
   ]
  },
  {
   "cell_type": "code",
   "execution_count": 35,
   "metadata": {},
   "outputs": [
    {
     "name": "stdout",
     "output_type": "stream",
     "text": [
      "Test data score: 0.37691401649\n"
     ]
    }
   ],
   "source": [
    "###\n",
    "# Evaluate performance on test data\n",
    "###\n",
    "\n",
    "Y_pred = classifier.predict(X_test)\n",
    "score = np.mean(Y_test == Y_pred)\n",
    "\n",
    "print(\"Test data score: \" + str(score))"
   ]
  },
  {
   "cell_type": "code",
   "execution_count": 36,
   "metadata": {},
   "outputs": [
    {
     "data": {
      "image/png": "[encoded data removed]",
      "text/plain": [
       "<matplotlib.figure.Figure at 0x1c1706df28>"
      ]
     },
     "metadata": {},
     "output_type": "display_data"
    }
   ],
   "source": [
    "###\n",
    "# Confusion matrix - should be normalized to be visually useful for unbalanced data (e.g. way more airplanes than gorillas)\n",
    "###\n",
    "\n",
    "from sklearn import metrics\n",
    "import seaborn as sns\n",
    "\n",
    "rf_confmat = metrics.confusion_matrix(Y_test, Y_pred) # conf mat\n",
    "\n",
    "sns.heatmap(rf_confmat, annot=False,  fmt='', \n",
    "            xticklabels=le.classes_, yticklabels=le.classes_);"
   ]
  },
  {
   "cell_type": "code",
   "execution_count": 32,
   "metadata": {
    "collapsed": true
   },
   "outputs": [],
   "source": []
  },
  {
   "cell_type": "code",
   "execution_count": null,
   "metadata": {
    "collapsed": true
   },
   "outputs": [],
   "source": []
  }
 ],
 "metadata": {
  "kernelspec": {
   "display_name": "Python [conda env:py36]",
   "language": "python",
   "name": "conda-env-py36-py"
  },
  "language_info": {
   "codemirror_mode": {
    "name": "ipython",
    "version": 3
   },
   "file_extension": ".py",
   "mimetype": "text/x-python",
   "name": "python",
   "nbconvert_exporter": "python",
   "pygments_lexer": "ipython3",
   "version": "3.6.3"
  }
 },
 "nbformat": 4,
 "nbformat_minor": 2
}
