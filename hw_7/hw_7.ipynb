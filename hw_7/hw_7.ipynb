{
 "cells": [
  {
   "cell_type": "markdown",
   "metadata": {},
   "source": [
    "# Homework 7: scikit-image\n",
    "\n",
    "Due Tuesday Apr 10, 6pm"
   ]
  },
  {
   "cell_type": "markdown",
   "metadata": {},
   "source": [
    "## Counting objects\n",
    "\n",
    "In class, we saw how to count the number of objects in a microscopy image.  Here, we will repeat that exercise, but make use of some of the algorithms in `scikit-image` to segment the image, and then to determine properties of the resulting objects.\n",
    "\n",
    "As input, use the image `skimage.data.coins`.  Segment the image, and then calculate the area and eccentricity of each coin.\n",
    "\n",
    "There are various ways to do this.  One would be:\n",
    "\n",
    "1. Equalize the input image (see `skimage.exposure`)\n",
    "2. Threshold the image (`skimage.filters.otsu`)\n",
    "3. Remove objects touching the boundary (`skimage.segmentation.clear_border`)\n",
    "4. Apply morphological closing (`skimage.morphology.closing`)\n",
    "5. Remove small objects (`skimage.measure.regionprops`).\n",
    "   Visualize the results if you want with `skimage.color.label2rgb`.\n",
    "7. Calculate the area and eccentricity of each coin, and display the\n",
    "   original image with this information on it (`matplotlib.pyplot.text` or `matplotlib.pyplot.annotate`)"
   ]
  },
  {
   "cell_type": "markdown",
   "metadata": {},
   "source": [
    "## Panorama stitching\n",
    "\n",
    "One of the scikit-image tutorials shows [how to do panorama stitching](https://github.com/scikit-image/skimage-tutorials/blob/master/lectures/solutions/adv3_panorama-stitching-solution.ipynb).\n",
    "\n",
    "Take 3 or 4 overlapping photos of your own, and use the procedure described to stitch your own panorama."
   ]
  },
  {
   "cell_type": "markdown",
   "metadata": {},
   "source": [
    "## Extra: Image Stacking\n",
    "\n",
    "Reprocess one of the datasets from http://www.rawastrodata.com/.  See http://www.rawastrodata.com/pages/typesofimages.html for a description of the different kind of images."
   ]
  }
 ],
 "metadata": {
  "kernelspec": {
   "display_name": "Python [conda env:py36]",
   "language": "python",
   "name": "conda-env-py36-py"
  },
  "language_info": {
   "codemirror_mode": {
    "name": "ipython",
    "version": 3
   },
   "file_extension": ".py",
   "mimetype": "text/x-python",
   "name": "python",
   "nbconvert_exporter": "python",
   "pygments_lexer": "ipython3",
   "version": "3.6.3"
  },
  "widgets": {
   "state": {},
   "version": "1.1.2"
  }
 },
 "nbformat": 4,
 "nbformat_minor": 1
}
